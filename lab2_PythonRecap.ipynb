{
  "cells": [
    {
      "cell_type": "markdown",
      "metadata": {
        "id": "view-in-github",
        "colab_type": "text"
      },
      "source": [
        "<a href=\"https://colab.research.google.com/github/farhanrashidy/COMP3122-Applied_Data_Science/blob/main/lab2_PythonRecap.ipynb\" target=\"_parent\"><img src=\"https://colab.research.google.com/assets/colab-badge.svg\" alt=\"Open In Colab\"/></a>"
      ]
    },
    {
      "cell_type": "markdown",
      "id": "181f409d",
      "metadata": {
        "id": "181f409d"
      },
      "source": [
        "# Lab2: Python Recap"
      ]
    },
    {
      "cell_type": "markdown",
      "id": "7ec5fbbb",
      "metadata": {
        "id": "7ec5fbbb"
      },
      "source": [
        "## 1. Contains Duplicate"
      ]
    },
    {
      "cell_type": "markdown",
      "id": "af12119e",
      "metadata": {
        "id": "af12119e"
      },
      "source": [
        "Given an integer array `nums`, return `true` if any value appears at least twice in the array, and return `false` if every element is distinct.\n",
        "\n",
        "https://leetcode.com/problems/contains-duplicate/description/"
      ]
    },
    {
      "cell_type": "code",
      "execution_count": 5,
      "id": "d0913a5d",
      "metadata": {
        "colab": {
          "base_uri": "https://localhost:8080/"
        },
        "id": "d0913a5d",
        "outputId": "81200e33-ec4d-4ec1-bc72-0f84417043f4"
      },
      "outputs": [
        {
          "output_type": "stream",
          "name": "stdout",
          "text": [
            "[8, 7]\n",
            "[2, 3, -1]\n",
            "[]\n"
          ]
        }
      ],
      "source": [
        "def repeating_elements(nums):\n",
        "    #your code here\n",
        "    seen = set()\n",
        "    duplicates = set()\n",
        "\n",
        "    for a in nums:\n",
        "      if a in seen:\n",
        "        duplicates.add(a)\n",
        "      else:\n",
        "        seen.add(a)\n",
        "    return list(duplicates)\n",
        "\n",
        "print(repeating_elements([9, 8, 7, 8, 7, 6, 5]))  # expected output : [8, 7]\n",
        "print(repeating_elements([-1, 2, 3, -1, 2, 3]))   # expected output : [-1, 2, 3]\n",
        "print(repeating_elements([1, 2, 3, 4, 5]))        # expected output : []"
      ]
    },
    {
      "cell_type": "markdown",
      "id": "483afe49",
      "metadata": {
        "id": "483afe49"
      },
      "source": [
        "## 2. Valid Anagram"
      ]
    },
    {
      "cell_type": "markdown",
      "id": "92b8f85c",
      "metadata": {
        "id": "92b8f85c"
      },
      "source": [
        "An `anagram` is a word or phrase formed by rearranging the letters of a different word or phrase, using all the original letters exactly once.\n",
        "\n",
        "https://leetcode.com/problems/valid-anagram/description/\n",
        "\n",
        "**Notes:**\n",
        "- `s` and `t` consist of lowercase English letters.\n",
        "- Do not use built-in functions like `sorted()` or `collections.Counter()` to solve this problem."
      ]
    },
    {
      "cell_type": "code",
      "execution_count": 6,
      "id": "d9195873",
      "metadata": {
        "colab": {
          "base_uri": "https://localhost:8080/"
        },
        "id": "d9195873",
        "outputId": "36771522-7d36-4450-88c8-14b92832545b"
      },
      "outputs": [
        {
          "output_type": "stream",
          "name": "stdout",
          "text": [
            "True\n",
            "False\n"
          ]
        }
      ],
      "source": [
        "def isAnagram(s, t):\n",
        "    #your code here\n",
        "    if len(s) != len(t):\n",
        "      return False\n",
        "\n",
        "    freq_s = {}\n",
        "    freq_t = {}\n",
        "\n",
        "    for char in s:\n",
        "      freq_s[char] = freq_s.get(char,0) + 1\n",
        "    for char in t:\n",
        "      freq_t[char] = freq_t.get(char,0) + 1\n",
        "\n",
        "    return freq_s == freq_t\n",
        "\n",
        "print(isAnagram(\"anagram\", \"nagaram\")) # expected output : True\n",
        "print(isAnagram(\"rat\", \"car\"))       # expected output : False"
      ]
    },
    {
      "cell_type": "markdown",
      "id": "2e056654",
      "metadata": {
        "id": "2e056654"
      },
      "source": [
        "## 3. Two Sum"
      ]
    },
    {
      "cell_type": "markdown",
      "id": "89b078b5",
      "metadata": {
        "id": "89b078b5"
      },
      "source": [
        "Given an array of integers `nums` and an integer `target`, return indices of the two numbers such that they add up to `target`.\n",
        "\n",
        "https://leetcode.com/problems/two-sum/description/\n",
        "\n",
        "**Notes:**\n",
        "\n",
        "- You may assume that each input would have exactly one solution, and you may not use the same element twice.\n",
        "\n",
        "- You can return the answer in any order.\n",
        "\n"
      ]
    },
    {
      "cell_type": "code",
      "execution_count": 7,
      "id": "d2bce3de",
      "metadata": {
        "colab": {
          "base_uri": "https://localhost:8080/"
        },
        "id": "d2bce3de",
        "outputId": "781e8a06-a74f-425e-99f1-bb890cc0e4cd"
      },
      "outputs": [
        {
          "output_type": "stream",
          "name": "stdout",
          "text": [
            "[0, 1]\n",
            "[1, 2]\n",
            "[0, 1]\n"
          ]
        }
      ],
      "source": [
        "def twoSum(nums, target):\n",
        "    #your code here\n",
        "    num_to_index = {}\n",
        "\n",
        "    for i, num in enumerate(nums):\n",
        "      complement = target - num\n",
        "      if complement in num_to_index:\n",
        "        return[num_to_index[complement], i]\n",
        "      num_to_index[num] = i\n",
        "\n",
        "print(twoSum([2,7,11,15], 9)) # expected output : [0, 1]\n",
        "print(twoSum([3,2,4], 6))     # expected output : [1, 2]\n",
        "print(twoSum([3,3], 6))       # expected output : [0, 1]"
      ]
    },
    {
      "cell_type": "markdown",
      "id": "899dd851",
      "metadata": {
        "id": "899dd851"
      },
      "source": [
        "## 4. Frequent Words Finder\n",
        "Imagine working with large documents, such as news articles, thesis manuscripts, or even books. Identifying the most common words could give us an overview of the main themes or topics in the text.\n",
        "\n",
        "Given a large body of text, we need to identify the three most frequently occurring words.\n",
        "\n",
        "**Notes:**\n",
        "- Not case-sensitive (e.g., \"The\" and \"the\" are the same word).\n",
        "\n",
        "**Hint:**\n",
        "- Step 1: Normalize the text by converting it to lowercase.\n",
        "- Step 2: Split the text into words.\n",
        "- Step 3: Count the occurrences of each word.\n",
        "- Step 4: Identify the top three most frequent words. (You'll use this for `KNN` algorithm in the future lessons)\n",
        "\n"
      ]
    },
    {
      "cell_type": "code",
      "execution_count": 9,
      "id": "5f053266",
      "metadata": {
        "colab": {
          "base_uri": "https://localhost:8080/"
        },
        "id": "5f053266",
        "outputId": "aeeebf8c-f980-44aa-b470-e14f6f461508"
      },
      "outputs": [
        {
          "output_type": "stream",
          "name": "stdout",
          "text": [
            "[('the', 4), ('sun', 2), ('in', 2)]\n",
            "[('python', 3), ('is', 2), ('learning', 1)]\n",
            "[]\n"
          ]
        }
      ],
      "source": [
        "import re\n",
        "\n",
        "def frequent_words_finder(text):\n",
        "    if not text:\n",
        "        return []\n",
        "\n",
        "    text = text.lower()\n",
        "\n",
        "    words = re.findall(r'\\b\\w+\\b', text)\n",
        "\n",
        "    freq = {}\n",
        "    for word in words:\n",
        "        freq[word] = freq.get(word, 0) + 1\n",
        "\n",
        "    top_three = sorted(freq.items(), key=lambda x: x[1], reverse=True)[:3]\n",
        "\n",
        "    return top_three\n",
        "\n",
        "\n",
        "print(frequent_words_finder(\"The sun sets in the west, and the sun rises in the east.\"))\n",
        "# expected: [('the', 4), ('sun', 2), ('in', 2)]\n",
        "\n",
        "print(frequent_words_finder(\"Learning Python is fun because Python makes automation easy and Python is everywhere.\"))\n",
        "# expected: [('python', 3), ('is', 2), ('learning', 1)]\n",
        "\n",
        "print(frequent_words_finder(\"\"))\n",
        "# expected: []"
      ]
    },
    {
      "cell_type": "markdown",
      "id": "be92145e",
      "metadata": {
        "id": "be92145e"
      },
      "source": [
        "## 5. Majority Vote"
      ]
    },
    {
      "cell_type": "markdown",
      "id": "0df73ec1",
      "metadata": {
        "id": "0df73ec1"
      },
      "source": [
        "Given a list of integers, our aim is to identify the \"majority element\". The majority element in a list is an element that appears more than n / 2 times."
      ]
    },
    {
      "cell_type": "code",
      "execution_count": 12,
      "id": "8e924772",
      "metadata": {
        "colab": {
          "base_uri": "https://localhost:8080/"
        },
        "id": "8e924772",
        "outputId": "cab9b2e7-5487-4c13-b95b-2ba6838040a5"
      },
      "outputs": [
        {
          "output_type": "stream",
          "name": "stdout",
          "text": [
            "4\n",
            "-1\n",
            "2\n"
          ]
        }
      ],
      "source": [
        "def majority_vote(listA):\n",
        "    #your code here\n",
        "    freq = {}\n",
        "    n = len(listA)\n",
        "\n",
        "    for num in listA:\n",
        "      freq[num] = freq.get(num,0)+1\n",
        "\n",
        "    for num, count in freq.items():\n",
        "      if count > n // 2:\n",
        "        return num\n",
        "\n",
        "    return -1\n",
        "\n",
        "print(majority_vote([3, 3, 4, 2, 4, 4, 2, 4, 4])) # expected output : 4\n",
        "print(majority_vote([3, 3, 4, 2, 4, 4, 2, 4]))    # expected output : -1\n",
        "print(majority_vote([2, 2, 1, 1, 1, 2, 2]))          # expected output : 2"
      ]
    },
    {
      "cell_type": "markdown",
      "id": "8c31b707",
      "metadata": {
        "id": "8c31b707"
      },
      "source": [
        "## 6. Keyword Index"
      ]
    },
    {
      "cell_type": "markdown",
      "id": "39fd7ff6",
      "metadata": {
        "id": "39fd7ff6"
      },
      "source": [
        "We are given a list of strings, with each string representing a document. Our task is to generate an index of all the distinct words in the documents for quick reference.\n",
        "\n",
        "We need to create a dictionary where each unique word is a key, and the corresponding value is a list of indices pointing to the documents where the word can be found."
      ]
    },
    {
      "cell_type": "code",
      "execution_count": 14,
      "id": "1757d015",
      "metadata": {
        "colab": {
          "base_uri": "https://localhost:8080/"
        },
        "id": "1757d015",
        "outputId": "c35b5ea9-078e-467b-85c9-989c0819ec71"
      },
      "outputs": [
        {
          "output_type": "stream",
          "name": "stdout",
          "text": [
            "{'hello': [0, 1], 'world': [0, 2], 'there': [1], 'of': [2], 'python': [2]}\n",
            "{'data': [0, 2], 'science': [0], 'machine': [1], 'learning': [1, 3], 'analysis': [2], 'algorithms': [3]}\n",
            "{}\n"
          ]
        }
      ],
      "source": [
        "def keyword_index(docs):\n",
        "    #your code here\n",
        "    index = {}\n",
        "\n",
        "    for i, doc in enumerate(docs):\n",
        "      words = re.findall(r'\\b\\w+\\b', doc.lower())\n",
        "\n",
        "      for word in words:\n",
        "        if word not in index:\n",
        "          index[word] = []\n",
        "\n",
        "        if i not in index[word]:\n",
        "          index[word].append(i)\n",
        "\n",
        "    return index\n",
        "\n",
        "print(keyword_index([\"hello world\", \"hello there\", \"world of python\"]))\n",
        "# expected output : {'hello': [0, 1], 'world': [0, 2], 'there': [1], 'of': [2], 'python': [2]}\n",
        "\n",
        "print(keyword_index([\"data science\", \"machine learning\", \"data analysis\", \"learning algorithms\"]))\n",
        "# expected output : {'data': [0, 2], 'science': [0], 'machine': [1], 'learning': [1, 3], 'analysis': [2], 'algorithms': [3]}\n",
        "\n",
        "print(keyword_index([]))\n",
        "# expected output : {}"
      ]
    },
    {
      "cell_type": "code",
      "execution_count": null,
      "id": "681f994b",
      "metadata": {
        "id": "681f994b"
      },
      "outputs": [],
      "source": []
    }
  ],
  "metadata": {
    "kernelspec": {
      "display_name": ".venv",
      "language": "python",
      "name": "python3"
    },
    "language_info": {
      "codemirror_mode": {
        "name": "ipython",
        "version": 3
      },
      "file_extension": ".py",
      "mimetype": "text/x-python",
      "name": "python",
      "nbconvert_exporter": "python",
      "pygments_lexer": "ipython3",
      "version": "3.12.9"
    },
    "colab": {
      "provenance": [],
      "include_colab_link": true
    }
  },
  "nbformat": 4,
  "nbformat_minor": 5
}