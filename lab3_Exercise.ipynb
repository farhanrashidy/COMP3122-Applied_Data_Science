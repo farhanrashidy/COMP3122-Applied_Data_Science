{
  "cells": [
    {
      "cell_type": "markdown",
      "metadata": {
        "id": "mT8vky5pJuIO"
      },
      "source": [
        "# Lab exercise, week 3 - numpy & matplotlib basics\n",
        "\n",
        "Contents:\n",
        "- Overview of numpy arrays\n",
        "- Exercises for numpy\n",
        "- Exercises for plotting"
      ]
    },
    {
      "cell_type": "markdown",
      "metadata": {
        "id": "mxciK98UJuIR"
      },
      "source": [
        "## NumPy - overview\n",
        "\n",
        "Python lists are somewhat weird creatures. In contrast to basic array types in other languages like C# and Java, they can hold objects of different types and new elements can be inserted in the middle. NumPy arrays are much more like C# arrays - all elements have the same type."
      ]
    },
    {
      "cell_type": "code",
      "execution_count": 1,
      "metadata": {
        "id": "62bN1MxvJuIS"
      },
      "outputs": [],
      "source": [
        "# by convention numpy is always imported as np\n",
        "import numpy as np"
      ]
    },
    {
      "cell_type": "markdown",
      "metadata": {
        "id": "MTEhvLXPJuIT"
      },
      "source": [
        "### Common ways of creating numpy arrays"
      ]
    },
    {
      "cell_type": "code",
      "execution_count": 2,
      "metadata": {
        "id": "Y3xpFxvKJuIT",
        "outputId": "30535a62-6971-4ee9-90ad-290b5950cae6",
        "colab": {
          "base_uri": "https://localhost:8080/"
        }
      },
      "outputs": [
        {
          "output_type": "execute_result",
          "data": {
            "text/plain": [
              "array([ 5,  2, 17])"
            ]
          },
          "metadata": {},
          "execution_count": 2
        }
      ],
      "source": [
        "a = np.array([5, 2, 17])  # Convert a Python list into a numpy array\n",
        "a"
      ]
    },
    {
      "cell_type": "code",
      "execution_count": 3,
      "metadata": {
        "id": "V2Uqp2oaJuIT",
        "outputId": "dfde5087-8df9-46e8-e321-b3a766f830cd",
        "colab": {
          "base_uri": "https://localhost:8080/"
        }
      },
      "outputs": [
        {
          "output_type": "execute_result",
          "data": {
            "text/plain": [
              "(2, 3)"
            ]
          },
          "metadata": {},
          "execution_count": 3
        }
      ],
      "source": [
        "# List of lists gets converted into a 2D array\n",
        "b= np.array([[5, 7, 2],\n",
        "          [9, 4, 1]])\n",
        "b.shape"
      ]
    },
    {
      "cell_type": "code",
      "execution_count": 4,
      "metadata": {
        "id": "D7M7kZMvJuIU",
        "outputId": "e60d7338-acdf-469b-ccb3-78dc8c4f1883",
        "colab": {
          "base_uri": "https://localhost:8080/"
        }
      },
      "outputs": [
        {
          "output_type": "execute_result",
          "data": {
            "text/plain": [
              "array([0, 1, 2, 3, 4])"
            ]
          },
          "metadata": {},
          "execution_count": 4
        }
      ],
      "source": [
        "np.arange(5)  # Same as Python's range() but creates a numpy array"
      ]
    },
    {
      "cell_type": "code",
      "execution_count": 5,
      "metadata": {
        "id": "M28RItXBJuIU",
        "outputId": "66f11614-db62-4324-b996-773922d64ef0",
        "colab": {
          "base_uri": "https://localhost:8080/"
        }
      },
      "outputs": [
        {
          "output_type": "execute_result",
          "data": {
            "text/plain": [
              "array([0., 0., 0., 0., 0.])"
            ]
          },
          "metadata": {},
          "execution_count": 5
        }
      ],
      "source": [
        "np.zeros(5)  # Create a numpy array with five elements, all set to zero"
      ]
    },
    {
      "cell_type": "code",
      "execution_count": 6,
      "metadata": {
        "id": "tziJirmGJuIU",
        "outputId": "e61ba410-b249-497a-ea50-677a6b40fcd4",
        "colab": {
          "base_uri": "https://localhost:8080/"
        }
      },
      "outputs": [
        {
          "output_type": "execute_result",
          "data": {
            "text/plain": [
              "array([1., 1., 1., 1., 1., 1., 1.])"
            ]
          },
          "metadata": {},
          "execution_count": 6
        }
      ],
      "source": [
        "c = np.ones(7)  # Create a numpy array with five elements, all set to 1\n",
        "c\n"
      ]
    },
    {
      "cell_type": "code",
      "execution_count": 7,
      "metadata": {
        "id": "iH8mGZADJuIV",
        "outputId": "f85828df-466c-4447-b1c3-5f0c60d12e92",
        "colab": {
          "base_uri": "https://localhost:8080/"
        }
      },
      "outputs": [
        {
          "output_type": "execute_result",
          "data": {
            "text/plain": [
              "array([0.50612434, 0.05063596, 0.27871229, 0.02971561, 0.24656347,\n",
              "       0.92737623])"
            ]
          },
          "metadata": {},
          "execution_count": 7
        }
      ],
      "source": [
        "# Array of 6 random numbers between 0 and 1\n",
        "np.random.rand(6)"
      ]
    },
    {
      "cell_type": "code",
      "execution_count": 8,
      "metadata": {
        "id": "sHqjyIg-JuIV",
        "outputId": "15dd8ae3-6fb9-4a44-d949-de12f0bc87d3",
        "colab": {
          "base_uri": "https://localhost:8080/"
        }
      },
      "outputs": [
        {
          "output_type": "execute_result",
          "data": {
            "text/plain": [
              "array([59, 25,  2, 48, 38, 99])"
            ]
          },
          "metadata": {},
          "execution_count": 8
        }
      ],
      "source": [
        "# array with 6 random integers between 0 and 100 (not including 100 as usual)\n",
        "np.random.randint(100, size=6)"
      ]
    },
    {
      "cell_type": "markdown",
      "metadata": {
        "id": "1GnnWmpMJuIW"
      },
      "source": [
        "### Array properties"
      ]
    },
    {
      "cell_type": "code",
      "execution_count": 9,
      "metadata": {
        "id": "4L75bAoeJuIW",
        "outputId": "8bb9e678-8c9d-4ffe-d705-20305ca0f58a",
        "colab": {
          "base_uri": "https://localhost:8080/"
        }
      },
      "outputs": [
        {
          "output_type": "execute_result",
          "data": {
            "text/plain": [
              "array([[5, 7, 2],\n",
              "       [9, 4, 1]])"
            ]
          },
          "metadata": {},
          "execution_count": 9
        }
      ],
      "source": [
        "b = np.array([[5, 7, 2],\n",
        "              [9, 4, 1]])\n",
        "b"
      ]
    },
    {
      "cell_type": "code",
      "execution_count": 10,
      "metadata": {
        "id": "BUE6V6BdJuIX",
        "outputId": "c7041643-3739-4f64-e0e5-eccc1d3fc987",
        "colab": {
          "base_uri": "https://localhost:8080/"
        }
      },
      "outputs": [
        {
          "output_type": "execute_result",
          "data": {
            "text/plain": [
              "dtype('int64')"
            ]
          },
          "metadata": {},
          "execution_count": 10
        }
      ],
      "source": [
        "# Data type of the array\n",
        "a.dtype"
      ]
    },
    {
      "cell_type": "code",
      "execution_count": 11,
      "metadata": {
        "id": "mYOF3LR9JuIY",
        "outputId": "4dda391f-c346-4a9b-f7af-0d4e653aa400",
        "colab": {
          "base_uri": "https://localhost:8080/"
        }
      },
      "outputs": [
        {
          "output_type": "execute_result",
          "data": {
            "text/plain": [
              "2"
            ]
          },
          "metadata": {},
          "execution_count": 11
        }
      ],
      "source": [
        "# number of dimensions\n",
        "b.ndim"
      ]
    },
    {
      "cell_type": "code",
      "execution_count": 12,
      "metadata": {
        "id": "byzDEx3bJuIY",
        "outputId": "753d31f6-37ef-4927-e34f-3e8ae1b86743",
        "colab": {
          "base_uri": "https://localhost:8080/"
        }
      },
      "outputs": [
        {
          "output_type": "execute_result",
          "data": {
            "text/plain": [
              "(2, 3)"
            ]
          },
          "metadata": {},
          "execution_count": 12
        }
      ],
      "source": [
        "# array shape is a Python tuple, in this case it's (2, 3) because b is a 2 by 3 array.\n",
        "b.shape"
      ]
    },
    {
      "cell_type": "code",
      "execution_count": 13,
      "metadata": {
        "id": "RxVoBA2vJuIZ",
        "outputId": "95aadd1b-4317-4622-ce03-12395180f733",
        "colab": {
          "base_uri": "https://localhost:8080/"
        }
      },
      "outputs": [
        {
          "output_type": "execute_result",
          "data": {
            "text/plain": [
              "6"
            ]
          },
          "metadata": {},
          "execution_count": 13
        }
      ],
      "source": [
        "# The total number of elements\n",
        "b.size"
      ]
    },
    {
      "cell_type": "code",
      "execution_count": 14,
      "metadata": {
        "id": "igoo_hbxJuIZ",
        "outputId": "05990d16-5ac8-418a-bdc8-75bf47f04df1",
        "colab": {
          "base_uri": "https://localhost:8080/"
        }
      },
      "outputs": [
        {
          "output_type": "execute_result",
          "data": {
            "text/plain": [
              "dtype('float64')"
            ]
          },
          "metadata": {},
          "execution_count": 14
        }
      ],
      "source": [
        "# Note that zeros byt default uses the float64 data type\n",
        "z = np.zeros(7)\n",
        "z.dtype"
      ]
    },
    {
      "cell_type": "code",
      "execution_count": 15,
      "metadata": {
        "id": "XdsDmgHVJuIa",
        "outputId": "fdd221c2-5ee3-441c-ae75-769f6f023bf1",
        "colab": {
          "base_uri": "https://localhost:8080/"
        }
      },
      "outputs": [
        {
          "output_type": "execute_result",
          "data": {
            "text/plain": [
              "dtype('int8')"
            ]
          },
          "metadata": {},
          "execution_count": 15
        }
      ],
      "source": [
        "# But data type can be set explicitly, almost all numpy functions that create arrays take an optional dtype parameter\n",
        "# Let's set it to an 8 bit integer\n",
        "z = np.zeros(7, dtype=np.int8)\n",
        "z.dtype"
      ]
    },
    {
      "cell_type": "markdown",
      "metadata": {
        "id": "GCol_eexJuIa"
      },
      "source": [
        "## Exercises\n",
        "\n",
        "Read section 2.2 of the book (The Basics of NumPy Arrays) and complete the tasks below.\n"
      ]
    },
    {
      "cell_type": "markdown",
      "metadata": {
        "id": "QY1R_6GcJuIa"
      },
      "source": [
        "### 1. Numpy Array Creation"
      ]
    },
    {
      "cell_type": "markdown",
      "metadata": {
        "id": "NoyeHyPXJuIa"
      },
      "source": [
        "##### Convert a list into a numpy array"
      ]
    },
    {
      "cell_type": "code",
      "execution_count": 16,
      "metadata": {
        "id": "fqwDYc7-JuIa",
        "outputId": "ef164d97-898d-45a4-88b4-455c21f489af",
        "colab": {
          "base_uri": "https://localhost:8080/"
        }
      },
      "outputs": [
        {
          "output_type": "execute_result",
          "data": {
            "text/plain": [
              "[5, 3, 8, 4]"
            ]
          },
          "metadata": {},
          "execution_count": 16
        }
      ],
      "source": [
        "lst = [5, 3, 8, 4]\n",
        "lst"
      ]
    },
    {
      "cell_type": "code",
      "execution_count": 17,
      "metadata": {
        "id": "knzSyzqPJuIa",
        "colab": {
          "base_uri": "https://localhost:8080/"
        },
        "outputId": "77fc46c0-f42c-4b2d-a43f-9a00c1cd4fa6"
      },
      "outputs": [
        {
          "output_type": "execute_result",
          "data": {
            "text/plain": [
              "array([5, 3, 8, 4])"
            ]
          },
          "metadata": {},
          "execution_count": 17
        }
      ],
      "source": [
        "# your code here\n",
        "x = np.array(lst)\n",
        "x"
      ]
    },
    {
      "cell_type": "markdown",
      "metadata": {
        "id": "M9xIfUeqJuIa"
      },
      "source": [
        "#### What happens when you multiply a list by 3, what a about an array multiplied by 3?"
      ]
    },
    {
      "cell_type": "code",
      "execution_count": 18,
      "metadata": {
        "id": "R0g9Evt_JuIb",
        "colab": {
          "base_uri": "https://localhost:8080/"
        },
        "outputId": "d346d807-8634-4701-def3-0a2ed0438f6a"
      },
      "outputs": [
        {
          "output_type": "stream",
          "name": "stdout",
          "text": [
            "[5, 3, 8, 4, 5, 3, 8, 4, 5, 3, 8, 4]\n",
            "[15  9 24 12]\n"
          ]
        }
      ],
      "source": [
        "# Feel free to add more cells\n",
        "print(lst*3)\n",
        "print(x*3)"
      ]
    },
    {
      "cell_type": "markdown",
      "metadata": {
        "id": "iMJvpc8TJuIb"
      },
      "source": [
        "#### Create an array of 10 ones [1, 1, 1, ... ]"
      ]
    },
    {
      "cell_type": "code",
      "execution_count": 19,
      "metadata": {
        "id": "o8fAVcYjJuIb",
        "colab": {
          "base_uri": "https://localhost:8080/"
        },
        "outputId": "664093a6-f7f2-412d-cd9f-21fd06bc3c48"
      },
      "outputs": [
        {
          "output_type": "execute_result",
          "data": {
            "text/plain": [
              "array([1., 1., 1., 1., 1., 1., 1., 1., 1., 1.])"
            ]
          },
          "metadata": {},
          "execution_count": 19
        }
      ],
      "source": [
        "c= np.ones(10)\n",
        "c"
      ]
    },
    {
      "cell_type": "markdown",
      "metadata": {
        "id": "rlPgVDiAJuIb"
      },
      "source": [
        "#### Create an array of 10 fives [5, 5, 5, .... ]"
      ]
    },
    {
      "cell_type": "code",
      "execution_count": 20,
      "metadata": {
        "id": "_ZmiPs8HJuIc",
        "colab": {
          "base_uri": "https://localhost:8080/"
        },
        "outputId": "b20e286c-e691-436c-9751-4a06fdd083e3"
      },
      "outputs": [
        {
          "output_type": "execute_result",
          "data": {
            "text/plain": [
              "array([5., 5., 5., 5., 5., 5., 5., 5., 5., 5.])"
            ]
          },
          "metadata": {},
          "execution_count": 20
        }
      ],
      "source": [
        "np.ones(10)*5\n"
      ]
    },
    {
      "cell_type": "markdown",
      "metadata": {
        "id": "laLmKI2BJuIc"
      },
      "source": [
        "#### Create an array of the integers from 10 to 50 (including 50)"
      ]
    },
    {
      "cell_type": "code",
      "execution_count": 21,
      "metadata": {
        "id": "I4xuzIM2JuIc",
        "colab": {
          "base_uri": "https://localhost:8080/"
        },
        "outputId": "81116077-a0d3-486b-d3fd-2337a748d653"
      },
      "outputs": [
        {
          "output_type": "execute_result",
          "data": {
            "text/plain": [
              "array([10, 11, 12, 13, 14, 15, 16, 17, 18, 19, 20, 21, 22, 23, 24, 25, 26,\n",
              "       27, 28, 29, 30, 31, 32, 33, 34, 35, 36, 37, 38, 39, 40, 41, 42, 43,\n",
              "       44, 45, 46, 47, 48, 49, 50])"
            ]
          },
          "metadata": {},
          "execution_count": 21
        }
      ],
      "source": [
        "np.arange(10,51)"
      ]
    },
    {
      "cell_type": "markdown",
      "metadata": {
        "id": "_CBXLzj4JuIc"
      },
      "source": [
        "#### Create an array of 10 random numbers between 0 and 5"
      ]
    },
    {
      "cell_type": "code",
      "execution_count": 22,
      "metadata": {
        "id": "zAgwz1PJJuIc",
        "colab": {
          "base_uri": "https://localhost:8080/"
        },
        "outputId": "e9e2ec4e-7ae0-4fa5-a255-e2b248db6534"
      },
      "outputs": [
        {
          "output_type": "execute_result",
          "data": {
            "text/plain": [
              "array([2.039682  , 4.86691416, 2.56654958, 0.69599656, 3.3455912 ,\n",
              "       4.99188168, 0.57850749, 2.33728442, 0.14770435, 4.58325279])"
            ]
          },
          "metadata": {},
          "execution_count": 22
        }
      ],
      "source": [
        "np.random.rand(10)*5"
      ]
    },
    {
      "cell_type": "markdown",
      "metadata": {
        "id": "I4d38myRJuIc"
      },
      "source": [
        "#### Read the help for np.linspace function and create an array of 11 evenly spaced elements between 0 and 2\n",
        "use `np.linspace?` or `?np.linspace` to show the help"
      ]
    },
    {
      "cell_type": "code",
      "execution_count": 23,
      "metadata": {
        "id": "0p62sML-JuIc",
        "colab": {
          "base_uri": "https://localhost:8080/"
        },
        "outputId": "ad6411ec-a052-4bcb-c80d-befe581952d5"
      },
      "outputs": [
        {
          "output_type": "execute_result",
          "data": {
            "text/plain": [
              "array([0. , 0.2, 0.4, 0.6, 0.8, 1. , 1.2, 1.4, 1.6, 1.8, 2. ])"
            ]
          },
          "metadata": {},
          "execution_count": 23
        }
      ],
      "source": [
        "np.linspace(0, 2, 11)"
      ]
    },
    {
      "cell_type": "markdown",
      "metadata": {
        "id": "evI3HmAnJuIc"
      },
      "source": [
        "#### Create a 3 by 4 array of ones"
      ]
    },
    {
      "cell_type": "code",
      "execution_count": 24,
      "metadata": {
        "id": "U8MvqhcVJuId",
        "colab": {
          "base_uri": "https://localhost:8080/"
        },
        "outputId": "8c1e714f-6ebb-41c2-8f32-e4b544a7f4a2"
      },
      "outputs": [
        {
          "output_type": "execute_result",
          "data": {
            "text/plain": [
              "array([[1., 1., 1., 1.],\n",
              "       [1., 1., 1., 1.],\n",
              "       [1., 1., 1., 1.]])"
            ]
          },
          "metadata": {},
          "execution_count": 24
        }
      ],
      "source": [
        "np.ones((3,4))"
      ]
    },
    {
      "cell_type": "markdown",
      "metadata": {
        "id": "8bFhhCAlJuId"
      },
      "source": [
        "#### Create a 3 by 4 array of fives"
      ]
    },
    {
      "cell_type": "code",
      "execution_count": 25,
      "metadata": {
        "id": "JxtfP4HwJuIo",
        "colab": {
          "base_uri": "https://localhost:8080/"
        },
        "outputId": "5caa2647-abd1-430a-f837-13a3b50b4f87"
      },
      "outputs": [
        {
          "output_type": "execute_result",
          "data": {
            "text/plain": [
              "array([[5., 5., 5., 5.],\n",
              "       [5., 5., 5., 5.],\n",
              "       [5., 5., 5., 5.]])"
            ]
          },
          "metadata": {},
          "execution_count": 25
        }
      ],
      "source": [
        "np.ones((3,4)) * 5"
      ]
    },
    {
      "cell_type": "markdown",
      "metadata": {
        "id": "74UMpnFjJuIo"
      },
      "source": [
        "### 2. Array Indexing\n",
        "Using the following arrays `a` and `m` for the questions below"
      ]
    },
    {
      "cell_type": "code",
      "execution_count": 26,
      "metadata": {
        "id": "wN5Mm3tSJuIo",
        "outputId": "d0e59ff0-f732-4cb9-953e-dc2b16ef55a7",
        "colab": {
          "base_uri": "https://localhost:8080/"
        }
      },
      "outputs": [
        {
          "output_type": "execute_result",
          "data": {
            "text/plain": [
              "array([10, 11, 12, 13, 14, 15, 16, 17, 18, 19, 20])"
            ]
          },
          "metadata": {},
          "execution_count": 26
        }
      ],
      "source": [
        "a = np.arange(10,21)\n",
        "a"
      ]
    },
    {
      "cell_type": "code",
      "execution_count": 27,
      "metadata": {
        "id": "ZkFCIsJxJuIo",
        "outputId": "132a525c-0779-4cf9-817f-5d51d2ece79e",
        "colab": {
          "base_uri": "https://localhost:8080/"
        }
      },
      "outputs": [
        {
          "output_type": "execute_result",
          "data": {
            "text/plain": [
              "array([[ 1,  2,  3,  4,  5,  6,  7],\n",
              "       [ 8,  9, 10, 11, 12, 13, 14],\n",
              "       [15, 16, 17, 18, 19, 20, 21]])"
            ]
          },
          "metadata": {},
          "execution_count": 27
        }
      ],
      "source": [
        "m = np.arange(1,22).reshape((3,7))\n",
        "m"
      ]
    },
    {
      "cell_type": "markdown",
      "metadata": {
        "id": "N9se2K0bJuIo"
      },
      "source": [
        "### Create an array containing...\n",
        "#### the first 4 elements of a"
      ]
    },
    {
      "cell_type": "code",
      "execution_count": 28,
      "metadata": {
        "id": "tw5ZZYhTJuIo",
        "outputId": "2b9ec2e8-11bc-45d4-f5f5-5124e721c52f",
        "colab": {
          "base_uri": "https://localhost:8080/"
        }
      },
      "outputs": [
        {
          "output_type": "execute_result",
          "data": {
            "text/plain": [
              "array([10, 11, 12, 13])"
            ]
          },
          "metadata": {},
          "execution_count": 28
        }
      ],
      "source": [
        "a[:4]"
      ]
    },
    {
      "cell_type": "markdown",
      "metadata": {
        "id": "FM5Ovh1lJuIo"
      },
      "source": [
        "#### the last 3 elements of a"
      ]
    },
    {
      "cell_type": "code",
      "execution_count": 29,
      "metadata": {
        "id": "o-dYmEluJuIo",
        "colab": {
          "base_uri": "https://localhost:8080/"
        },
        "outputId": "6274f48c-c6ad-4a74-d511-2efe3b3944c3"
      },
      "outputs": [
        {
          "output_type": "execute_result",
          "data": {
            "text/plain": [
              "array([18, 19, 20])"
            ]
          },
          "metadata": {},
          "execution_count": 29
        }
      ],
      "source": [
        "a[-3:]"
      ]
    },
    {
      "cell_type": "markdown",
      "metadata": {
        "id": "bXY11aoEJuIo"
      },
      "source": [
        "#### The middle elements of a from 15 to 18 inclusive"
      ]
    },
    {
      "cell_type": "code",
      "execution_count": 30,
      "metadata": {
        "id": "6nqYIrQyJuIp",
        "colab": {
          "base_uri": "https://localhost:8080/"
        },
        "outputId": "39f6f3a8-120b-4b4c-85df-ed622f7700db"
      },
      "outputs": [
        {
          "output_type": "execute_result",
          "data": {
            "text/plain": [
              "array([15, 16, 17, 18])"
            ]
          },
          "metadata": {},
          "execution_count": 30
        }
      ],
      "source": [
        "a[5:9]"
      ]
    },
    {
      "cell_type": "markdown",
      "metadata": {
        "id": "jnemiTr4JuIp"
      },
      "source": [
        "#### The first column of m"
      ]
    },
    {
      "cell_type": "code",
      "execution_count": 31,
      "metadata": {
        "id": "GfsuUHdGJuIp",
        "colab": {
          "base_uri": "https://localhost:8080/"
        },
        "outputId": "a60b2de8-d60a-423d-8f1e-d55b3e1611b0"
      },
      "outputs": [
        {
          "output_type": "execute_result",
          "data": {
            "text/plain": [
              "array([ 1,  8, 15])"
            ]
          },
          "metadata": {},
          "execution_count": 31
        }
      ],
      "source": [
        "m[:,0]"
      ]
    },
    {
      "cell_type": "markdown",
      "metadata": {
        "id": "s0ykGofdJuIp"
      },
      "source": [
        "#### The middle row of m"
      ]
    },
    {
      "cell_type": "code",
      "execution_count": 32,
      "metadata": {
        "id": "KrLrsHZ5JuIp",
        "colab": {
          "base_uri": "https://localhost:8080/"
        },
        "outputId": "e0b12e7a-7db0-4b1f-bf47-b3f2bdc4c5bd"
      },
      "outputs": [
        {
          "output_type": "execute_result",
          "data": {
            "text/plain": [
              "array([ 8,  9, 10, 11, 12, 13, 14])"
            ]
          },
          "metadata": {},
          "execution_count": 32
        }
      ],
      "source": [
        "m[1,:]"
      ]
    },
    {
      "cell_type": "markdown",
      "metadata": {
        "id": "GgeXQrD-JuIp"
      },
      "source": [
        "#### The left 3 columns of m"
      ]
    },
    {
      "cell_type": "code",
      "execution_count": 33,
      "metadata": {
        "id": "VLARdKQ-JuIp",
        "outputId": "120b79d9-a51d-45cb-b8cd-301e975fa257",
        "colab": {
          "base_uri": "https://localhost:8080/"
        }
      },
      "outputs": [
        {
          "output_type": "execute_result",
          "data": {
            "text/plain": [
              "array([[ 1,  2,  3],\n",
              "       [ 8,  9, 10],\n",
              "       [15, 16, 17]])"
            ]
          },
          "metadata": {},
          "execution_count": 33
        }
      ],
      "source": [
        "m[: , :3]"
      ]
    },
    {
      "cell_type": "markdown",
      "metadata": {
        "id": "FOsvVIIkJuIp"
      },
      "source": [
        "#### The bottom-right 2 by 2 square"
      ]
    },
    {
      "cell_type": "code",
      "execution_count": 34,
      "metadata": {
        "id": "rRs1XwYiJuIp",
        "outputId": "2266c8e5-dbd5-4a96-92b8-40d0e07e6dbf",
        "colab": {
          "base_uri": "https://localhost:8080/"
        }
      },
      "outputs": [
        {
          "output_type": "execute_result",
          "data": {
            "text/plain": [
              "array([[13, 14],\n",
              "       [20, 21]])"
            ]
          },
          "metadata": {},
          "execution_count": 34
        }
      ],
      "source": [
        "m[-2: , -2:]"
      ]
    },
    {
      "cell_type": "markdown",
      "metadata": {
        "id": "zVDrV5vbJuIp"
      },
      "source": [
        "#### (bonus) every other element of a  "
      ]
    },
    {
      "cell_type": "code",
      "source": [
        "a"
      ],
      "metadata": {
        "colab": {
          "base_uri": "https://localhost:8080/"
        },
        "id": "v0ye3QFqaX_b",
        "outputId": "d91076ac-8220-4523-bf81-9b992c068cf9"
      },
      "execution_count": 35,
      "outputs": [
        {
          "output_type": "execute_result",
          "data": {
            "text/plain": [
              "array([10, 11, 12, 13, 14, 15, 16, 17, 18, 19, 20])"
            ]
          },
          "metadata": {},
          "execution_count": 35
        }
      ]
    },
    {
      "cell_type": "code",
      "execution_count": 36,
      "metadata": {
        "id": "vqUGNt4aJuIp",
        "outputId": "a58d7c53-3d77-403f-c63b-ab1d63bbaa53",
        "colab": {
          "base_uri": "https://localhost:8080/"
        }
      },
      "outputs": [
        {
          "output_type": "execute_result",
          "data": {
            "text/plain": [
              "array([10, 12, 14, 16, 18, 20])"
            ]
          },
          "metadata": {},
          "execution_count": 36
        }
      ],
      "source": [
        "a[::2]"
      ]
    },
    {
      "cell_type": "markdown",
      "source": [
        "Print the even element of a"
      ],
      "metadata": {
        "id": "dXXzQ025aNcg"
      }
    },
    {
      "cell_type": "code",
      "source": [
        "mask = a % 2 == 0\n",
        "a[mask]"
      ],
      "metadata": {
        "colab": {
          "base_uri": "https://localhost:8080/"
        },
        "id": "BZGqACYgbVnu",
        "outputId": "0589b3cd-c584-4003-ea69-fe022b6b41ea"
      },
      "execution_count": 37,
      "outputs": [
        {
          "output_type": "execute_result",
          "data": {
            "text/plain": [
              "array([10, 12, 14, 16, 18, 20])"
            ]
          },
          "metadata": {},
          "execution_count": 37
        }
      ]
    },
    {
      "cell_type": "markdown",
      "source": [
        "Create all elements of a less or equal than 15\n",
        "Through boolean indexing\n"
      ],
      "metadata": {
        "id": "OKjkupvLbgLZ"
      }
    },
    {
      "cell_type": "code",
      "source": [
        "mask = a <=15\n",
        "a[mask]"
      ],
      "metadata": {
        "colab": {
          "base_uri": "https://localhost:8080/"
        },
        "id": "STtoDAlcbtSw",
        "outputId": "88e29736-f645-4858-afc2-beb5b7b158b7"
      },
      "execution_count": 38,
      "outputs": [
        {
          "output_type": "execute_result",
          "data": {
            "text/plain": [
              "array([10, 11, 12, 13, 14, 15])"
            ]
          },
          "metadata": {},
          "execution_count": 38
        }
      ]
    },
    {
      "cell_type": "markdown",
      "metadata": {
        "id": "kNkK4diBJuIq"
      },
      "source": [
        "### 3. Array Math"
      ]
    },
    {
      "cell_type": "markdown",
      "source": [
        "#### Calculate the sum of all the elements in a"
      ],
      "metadata": {
        "id": "WiMEYqFVcYGO"
      }
    },
    {
      "cell_type": "code",
      "source": [
        "a.sum()"
      ],
      "metadata": {
        "colab": {
          "base_uri": "https://localhost:8080/"
        },
        "id": "YWq9YkkscjX8",
        "outputId": "77d4cf90-721f-488f-f39e-b112ad870db9"
      },
      "execution_count": 39,
      "outputs": [
        {
          "output_type": "execute_result",
          "data": {
            "text/plain": [
              "np.int64(165)"
            ]
          },
          "metadata": {},
          "execution_count": 39
        }
      ]
    },
    {
      "cell_type": "markdown",
      "source": [
        "#### Calculate the sum of each column and each row in m"
      ],
      "metadata": {
        "id": "fwBBIFuIcuY1"
      }
    },
    {
      "cell_type": "code",
      "source": [
        "m"
      ],
      "metadata": {
        "colab": {
          "base_uri": "https://localhost:8080/"
        },
        "id": "0emsLssZd_70",
        "outputId": "70b46f3f-9f46-4299-ab5b-6fb253702b7f"
      },
      "execution_count": 40,
      "outputs": [
        {
          "output_type": "execute_result",
          "data": {
            "text/plain": [
              "array([[ 1,  2,  3,  4,  5,  6,  7],\n",
              "       [ 8,  9, 10, 11, 12, 13, 14],\n",
              "       [15, 16, 17, 18, 19, 20, 21]])"
            ]
          },
          "metadata": {},
          "execution_count": 40
        }
      ]
    },
    {
      "cell_type": "code",
      "source": [
        "#column sum\n",
        "np.sum(m,axis=0)"
      ],
      "metadata": {
        "colab": {
          "base_uri": "https://localhost:8080/"
        },
        "id": "1MJUW1lnczG8",
        "outputId": "4b318bde-04d0-4309-edd8-669b356085ba"
      },
      "execution_count": 41,
      "outputs": [
        {
          "output_type": "execute_result",
          "data": {
            "text/plain": [
              "array([24, 27, 30, 33, 36, 39, 42])"
            ]
          },
          "metadata": {},
          "execution_count": 41
        }
      ]
    },
    {
      "cell_type": "code",
      "source": [
        "#row sum\n",
        "np.sum(m,axis=1)"
      ],
      "metadata": {
        "colab": {
          "base_uri": "https://localhost:8080/"
        },
        "id": "TZf5YMWCeo0S",
        "outputId": "1d67c357-5b10-4828-b702-f1a92db41276"
      },
      "execution_count": 42,
      "outputs": [
        {
          "output_type": "execute_result",
          "data": {
            "text/plain": [
              "array([ 28,  77, 126])"
            ]
          },
          "metadata": {},
          "execution_count": 42
        }
      ]
    },
    {
      "cell_type": "markdown",
      "metadata": {
        "id": "RzsEVbOxJuIq"
      },
      "source": [
        "#### Subtract 5 from each element of a"
      ]
    },
    {
      "cell_type": "code",
      "execution_count": 43,
      "metadata": {
        "id": "l5h1eIWZJuIq",
        "outputId": "2c6520bd-b05b-4488-8bbb-2ddac5c98f29",
        "colab": {
          "base_uri": "https://localhost:8080/"
        }
      },
      "outputs": [
        {
          "output_type": "execute_result",
          "data": {
            "text/plain": [
              "array([10, 11, 12, 13, 14, 15, 16, 17, 18, 19, 20])"
            ]
          },
          "metadata": {},
          "execution_count": 43
        }
      ],
      "source": [
        "a"
      ]
    },
    {
      "cell_type": "code",
      "source": [
        "a - 5"
      ],
      "metadata": {
        "colab": {
          "base_uri": "https://localhost:8080/"
        },
        "id": "Qnc04eo8dpkV",
        "outputId": "46d4ad5a-bf2e-48d7-8aeb-77712f8a326e"
      },
      "execution_count": 44,
      "outputs": [
        {
          "output_type": "execute_result",
          "data": {
            "text/plain": [
              "array([ 5,  6,  7,  8,  9, 10, 11, 12, 13, 14, 15])"
            ]
          },
          "metadata": {},
          "execution_count": 44
        }
      ]
    },
    {
      "cell_type": "markdown",
      "metadata": {
        "id": "yDkOJBAAJuIq"
      },
      "source": [
        "#### Create an array containing squares of all numbers from 1 to 10 (inclusive)"
      ]
    },
    {
      "cell_type": "code",
      "source": [
        "np.arange(0,11)"
      ],
      "metadata": {
        "colab": {
          "base_uri": "https://localhost:8080/"
        },
        "id": "mFYKrErhe_-f",
        "outputId": "2e0b7d3d-b316-4ed5-c175-bfba6ae8ffeb"
      },
      "execution_count": 45,
      "outputs": [
        {
          "output_type": "execute_result",
          "data": {
            "text/plain": [
              "array([ 0,  1,  2,  3,  4,  5,  6,  7,  8,  9, 10])"
            ]
          },
          "metadata": {},
          "execution_count": 45
        }
      ]
    },
    {
      "cell_type": "code",
      "execution_count": 46,
      "metadata": {
        "id": "Uc-1l0FkJuIq",
        "colab": {
          "base_uri": "https://localhost:8080/"
        },
        "outputId": "81c0e069-3daa-4be9-879e-8f45d4324456"
      },
      "outputs": [
        {
          "output_type": "execute_result",
          "data": {
            "text/plain": [
              "array([  1,   4,   9,  16,  25,  36,  49,  64,  81, 100])"
            ]
          },
          "metadata": {},
          "execution_count": 46
        }
      ],
      "source": [
        "np.arange(1,11) ** 2"
      ]
    },
    {
      "cell_type": "markdown",
      "metadata": {
        "id": "BRvI-ZhQJuIq"
      },
      "source": [
        "#### Create an array containing all powers of 2 from $2^0$ to $2^{10}$ (inclusive)"
      ]
    },
    {
      "cell_type": "code",
      "execution_count": 47,
      "metadata": {
        "id": "fCGbw5SfJuIq",
        "colab": {
          "base_uri": "https://localhost:8080/"
        },
        "outputId": "75647579-ea39-445e-d96e-6faa1af35d9f"
      },
      "outputs": [
        {
          "output_type": "execute_result",
          "data": {
            "text/plain": [
              "array([   1,    2,    4,    8,   16,   32,   64,  128,  256,  512, 1024])"
            ]
          },
          "metadata": {},
          "execution_count": 47
        }
      ],
      "source": [
        "2 ** np.arange(0,11)"
      ]
    },
    {
      "cell_type": "markdown",
      "metadata": {
        "id": "EfhmNgU6JuIq"
      },
      "source": [
        "#### Same as above (powers of two), but subtract one from each element, that is $a_k = 2^k - 1$"
      ]
    },
    {
      "cell_type": "code",
      "execution_count": 48,
      "metadata": {
        "id": "td9fjKZKJuIq",
        "colab": {
          "base_uri": "https://localhost:8080/"
        },
        "outputId": "ca025505-5db9-449a-9d17-92c84f7bf402"
      },
      "outputs": [
        {
          "output_type": "execute_result",
          "data": {
            "text/plain": [
              "array([   0,    1,    3,    7,   15,   31,   63,  127,  255,  511, 1023])"
            ]
          },
          "metadata": {},
          "execution_count": 48
        }
      ],
      "source": [
        "2 ** np.arange(0,11) - 1"
      ]
    },
    {
      "cell_type": "markdown",
      "metadata": {
        "id": "hQyW2dy9JuIq"
      },
      "source": [
        "### Bonus task\n",
        "Write code that lists all available dtypes with specified number of bits"
      ]
    },
    {
      "cell_type": "code",
      "execution_count": 49,
      "metadata": {
        "id": "VtZTAjZBJuIq",
        "outputId": "6fe5f243-fc38-4171-f1d6-1a45082db0d0",
        "colab": {
          "base_uri": "https://localhost:8080/"
        }
      },
      "outputs": [
        {
          "output_type": "execute_result",
          "data": {
            "text/plain": [
              "numpy.int8"
            ]
          },
          "metadata": {},
          "execution_count": 49
        }
      ],
      "source": [
        "# Hint\n",
        "np.int8"
      ]
    },
    {
      "cell_type": "markdown",
      "metadata": {
        "id": "G5L2QlD6JuIr"
      },
      "source": [
        "## Plotting Basics\n",
        " - Use [this tutorial](https://matplotlib.org/users/pyplot_tutorial.html) as reference when (if) you get stuck\n",
        " - Execute the cells with imports, otherwise you won't have numpy and matplotlib imported and Python will complain"
      ]
    },
    {
      "cell_type": "code",
      "execution_count": 50,
      "metadata": {
        "id": "Q9S2LY9zJuIr"
      },
      "outputs": [],
      "source": [
        "import matplotlib.pyplot as plt"
      ]
    },
    {
      "cell_type": "code",
      "execution_count": 52,
      "metadata": {
        "id": "VRANTIC7JuIr",
        "colab": {
          "base_uri": "https://localhost:8080/"
        },
        "outputId": "fb847c2c-8782-4d30-a2f4-207ccc6179b5"
      },
      "outputs": [
        {
          "output_type": "execute_result",
          "data": {
            "text/plain": [
              "array([[  0. ,   0. ,  -2. ,  -1. ,   0. ],\n",
              "       [  1. ,   2. ,  -4. ,  -1. ,   0. ],\n",
              "       [  2. ,   2. ,  -2. ,   0. ,   0. ],\n",
              "       ...,\n",
              "       [363. ,   3. ,  -1. ,   1. ,   0. ],\n",
              "       [364. ,   2. ,  -3. ,  -0.5,   1. ],\n",
              "       [365. ,   5. ,  -3.5,   0.8,   0. ]])"
            ]
          },
          "metadata": {},
          "execution_count": 52
        }
      ],
      "source": [
        "# Load weather data (take a look at that CSV file on GitHub or via Excel and note column names)\n",
        "weather = np.loadtxt(\"OshawaWeather2016.csv\", skiprows=1, delimiter=',')\n",
        "weather"
      ]
    },
    {
      "cell_type": "code",
      "execution_count": 53,
      "metadata": {
        "id": "mfdd2sGfJuIr",
        "outputId": "f9bc7e0f-e3d3-4e7f-bd86-b76d704ed064",
        "colab": {
          "base_uri": "https://localhost:8080/"
        }
      },
      "outputs": [
        {
          "output_type": "execute_result",
          "data": {
            "text/plain": [
              "(349, 5)"
            ]
          },
          "metadata": {},
          "execution_count": 53
        }
      ],
      "source": [
        "weather.shape"
      ]
    },
    {
      "cell_type": "code",
      "execution_count": 54,
      "metadata": {
        "id": "MVMJYEtaJuIr",
        "outputId": "f63c9e2d-f430-475f-f059-ae1b4c3afa74",
        "colab": {
          "base_uri": "https://localhost:8080/"
        }
      },
      "outputs": [
        {
          "output_type": "execute_result",
          "data": {
            "text/plain": [
              "dtype('float64')"
            ]
          },
          "metadata": {},
          "execution_count": 54
        }
      ],
      "source": [
        "weather.dtype"
      ]
    },
    {
      "cell_type": "markdown",
      "metadata": {
        "id": "noAqJ4DjJuIr"
      },
      "source": [
        "#### Crate separate 1D arrays for each column (e.g: day, maxt, mint and so on)"
      ]
    },
    {
      "cell_type": "code",
      "execution_count": 55,
      "metadata": {
        "id": "GQa1xKrGJuIr"
      },
      "outputs": [],
      "source": [
        "# your code here\n",
        "# column name in csv file: Day,Max Temp (°C),Min Temp (°C),Mean Temp (°C),Total Precip (mm)\n",
        "# day = weather[???]\n",
        "day = weather[:,0]\n",
        "max_temp = weather [:,1]\n",
        "min_temp = weather [:,2]\n",
        "mean_temp = weather[:,3]\n",
        "total_precip = weather[:,4]"
      ]
    },
    {
      "cell_type": "code",
      "source": [
        "total_precip"
      ],
      "metadata": {
        "colab": {
          "base_uri": "https://localhost:8080/"
        },
        "id": "Uefw4ar3hvVm",
        "outputId": "44a5f65d-affd-49cb-a461-82b28eef6282"
      },
      "execution_count": 56,
      "outputs": [
        {
          "output_type": "execute_result",
          "data": {
            "text/plain": [
              "array([ 0. ,  0. ,  0. ,  0. ,  0. ,  0. ,  0. ,  0. , 29.8, 12.8,  3.5,\n",
              "        5. ,  2. ,  0.5,  9.4,  0. ,  0. ,  0. ,  0. ,  0. ,  0. ,  0. ,\n",
              "        0. ,  0. ,  1. ,  0.7,  1. ,  1. ,  0. ,  0. ,  5. ,  0. ,  9.6,\n",
              "        0. ,  0. ,  0.5,  0. ,  0. ,  0. ,  1. ,  0. ,  0. ,  0. ,  0. ,\n",
              "        0. ,  7. ,  5. ,  0. ,  0. ,  0. ,  0. ,  0. ,  0. , 22. ,  0. ,\n",
              "        0. ,  0. ,  0. ,  0. ,  0. ,  0. ,  0. ,  0. ,  0.6,  8.4,  0. ,\n",
              "        9.8,  3.2,  4.2,  3.4,  3.1,  0. ,  0. ,  0. ,  0. ,  1.6,  0.6,\n",
              "        3.6,  0. ,  0. ,  9. ,  2.2,  0. ,  9.6, 24. ,  0.6,  0. ,  9. ,\n",
              "        0. ,  0. ,  9.4,  0. ,  0. ,  0. ,  8.8,  2.2,  0. ,  0. ,  0. ,\n",
              "        0. ,  0. ,  0. ,  0. ,  0. ,  0. ,  2.4,  0. ,  0. ,  5.6,  3.2,\n",
              "        2. ,  0. ,  0. ,  0. ,  1. ,  0. ,  0.6,  1.6,  0. ,  0. ,  0. ,\n",
              "        0.6,  2.6,  2. ,  0. ,  0. ,  0. ,  0. ,  0.6,  0. ,  0. ,  0.6,\n",
              "        0. ,  0. ,  0. ,  0. ,  0. ,  0. ,  0. ,  0. , 10. ,  3. ,  4.6,\n",
              "        0. ,  0. ,  0. ,  8. ,  0. ,  0. ,  0. ,  0. ,  0. ,  0. ,  0. ,\n",
              "        0. ,  0. ,  0.6,  1.2,  0. ,  0. ,  0. ,  0. ,  3.8,  0. ,  0. ,\n",
              "        3. ,  0. ,  0. ,  0. ,  0. ,  0. ,  0. , 35. ,  3.2,  0. ,  0. ,\n",
              "        0. ,  0.4,  0. ,  0. ,  0. ,  0. ,  0. ,  0. ,  0. ,  0. ,  0. ,\n",
              "        0. , 18. ,  0. ,  0. , 11.8,  1. ,  0. ,  0. ,  1.6,  0. ,  0. ,\n",
              "        0. ,  0. ,  6.6,  0. ,  0. ,  0. ,  0. ,  0. ,  0. ,  1.8, 26.8,\n",
              "        0. , 20.4,  9. ,  0. ,  0. ,  0. , 14. ,  0. ,  0. ,  0. ,  3.2,\n",
              "        4. ,  0. ,  0.6,  0. ,  0. ,  0. ,  0. ,  0. ,  0. ,  0. ,  0. ,\n",
              "        0. ,  0. , 29. ,  0.4,  0. ,  7.6,  0. ,  0. ,  0. ,  0.4,  0. ,\n",
              "        3. ,  2.4,  0.5,  0. ,  0. ,  0. ,  0.4,  1. ,  0. ,  0. ,  9.4,\n",
              "        0. ,  0. ,  3.4,  0. ,  3.6,  3.4,  0. ,  0. ,  0. ,  0. ,  2. ,\n",
              "        0. ,  0. ,  0. ,  0. ,  0. ,  1. ,  0. ,  0.6,  4.6,  0.6,  4.8,\n",
              "        3. ,  6.2,  6. ,  0. ,  0. ,  0.8,  0. ,  2. ,  7.6,  0. ,  3.2,\n",
              "        0. ,  0. ,  0. , 16.6,  0.4,  0. ,  0. ,  0. ,  0. ,  1.4,  0. ,\n",
              "        0. ,  0. ,  0. ,  0. ,  0. ,  0. ,  0. ,  0. ,  0. ,  1. ,  0. ,\n",
              "        0. ,  0. ,  2.8,  1.4,  2.6,  1.2,  0. ,  4.4,  0.2, 13. ,  0. ,\n",
              "        0.2,  0. ,  8.2,  0. ,  6.8,  0.6,  1. ,  0. ,  1. ,  9. ,  0. ,\n",
              "        0. ,  0. ,  7. ,  9. ,  1. ,  0. ,  0. ,  0. ,  1. ,  0. ,  0. ,\n",
              "        0. ,  1.4, 17.2,  0. ,  2. ,  0. ,  1. ,  0. ])"
            ]
          },
          "metadata": {},
          "execution_count": 56
        }
      ]
    },
    {
      "cell_type": "markdown",
      "metadata": {
        "id": "Q4nV7-XcJuIs"
      },
      "source": [
        "#### Plot the minimum temperature as a function of day number"
      ]
    },
    {
      "cell_type": "code",
      "execution_count": 65,
      "metadata": {
        "id": "XqsGMNrJJuIs",
        "colab": {
          "base_uri": "https://localhost:8080/",
          "height": 489
        },
        "outputId": "37298eb5-24fe-442a-8cb1-72380e7b4c87"
      },
      "outputs": [
        {
          "output_type": "execute_result",
          "data": {
            "text/plain": [
              "Text(0, 0.5, 'Temp')"
            ]
          },
          "metadata": {},
          "execution_count": 65
        },
        {
          "output_type": "display_data",
          "data": {
            "text/plain": [
              "<Figure size 640x480 with 1 Axes>"
            ],
            "image/png": "[encoded data removed]"
          },
          "metadata": {}
        }
      ],
      "source": [
        "plt.plot(day,min_temp, label=\"min temp\")\n",
        "plt.title(\"Temp vs Day\")\n",
        "plt.xlabel(\"Day\")\n",
        "plt.ylabel(\"Temp\")"
      ]
    },
    {
      "cell_type": "markdown",
      "metadata": {
        "id": "RqekLuW-JuIs"
      },
      "source": [
        "#### Plot the max temperature in degrees Fahrenheit"
      ]
    },
    {
      "cell_type": "code",
      "execution_count": 61,
      "metadata": {
        "id": "1aY-Jr5YJuIs",
        "colab": {
          "base_uri": "https://localhost:8080/",
          "height": 489
        },
        "outputId": "966b1652-7188-4e8d-9949-3a410a478fe1"
      },
      "outputs": [
        {
          "output_type": "execute_result",
          "data": {
            "text/plain": [
              "Text(0, 0.5, 'Temp (*F)')"
            ]
          },
          "metadata": {},
          "execution_count": 61
        },
        {
          "output_type": "display_data",
          "data": {
            "text/plain": [
              "<Figure size 640x480 with 1 Axes>"
            ],
            "image/png": "[encoded data removed]"
          },
          "metadata": {}
        }
      ],
      "source": [
        "max_temp_f = max_temp * (9/5) + 32\n",
        "max_temp_f\n",
        "\n",
        "plt.plot(day,max_temp_f)\n",
        "plt.title(\"2016 Temperature in Fehrenheit\")\n",
        "plt.xlabel(\"Day\")\n",
        "plt.ylabel(\"Temp (*F)\")"
      ]
    },
    {
      "cell_type": "markdown",
      "metadata": {
        "id": "rVo6wrNlJuIs"
      },
      "source": [
        "#### Plot the difference between the maximum and the minimum day temperature as a function of day number"
      ]
    },
    {
      "cell_type": "code",
      "execution_count": 68,
      "metadata": {
        "id": "YRRP2UkHJuIs",
        "colab": {
          "base_uri": "https://localhost:8080/",
          "height": 447
        },
        "outputId": "4f7c5bc6-0cc9-4847-fd97-7179445a0713"
      },
      "outputs": [
        {
          "output_type": "execute_result",
          "data": {
            "text/plain": [
              "[<matplotlib.lines.Line2D at 0x7a273012caa0>]"
            ]
          },
          "metadata": {},
          "execution_count": 68
        },
        {
          "output_type": "display_data",
          "data": {
            "text/plain": [
              "<Figure size 640x480 with 1 Axes>"
            ],
            "image/png": "[encoded data removed]"
          },
          "metadata": {}
        }
      ],
      "source": [
        "temp_diff = max_temp - min_temp\n",
        "temp_diff\n",
        "plt.plot(day,temp_diff)"
      ]
    },
    {
      "cell_type": "markdown",
      "metadata": {
        "id": "5uubtOW4JuIs"
      },
      "source": [
        "#### Plot both, the minimum and maximum temperature on the same figure"
      ]
    },
    {
      "cell_type": "code",
      "execution_count": 63,
      "metadata": {
        "id": "3_PACBu1JuIs",
        "colab": {
          "base_uri": "https://localhost:8080/",
          "height": 489
        },
        "outputId": "402bada2-d679-4721-c81e-c0b69dfbeddf"
      },
      "outputs": [
        {
          "output_type": "execute_result",
          "data": {
            "text/plain": [
              "<matplotlib.legend.Legend at 0x7a27301701d0>"
            ]
          },
          "metadata": {},
          "execution_count": 63
        },
        {
          "output_type": "display_data",
          "data": {
            "text/plain": [
              "<Figure size 640x480 with 1 Axes>"
            ],
            "image/png": "[encoded data removed]"
          },
          "metadata": {}
        }
      ],
      "source": [
        "plt.plot(day,min_temp, label=\"min temp\")\n",
        "plt.plot(day,max_temp, label=\"max temp\")\n",
        "plt.title(\"Temp vs Day\")\n",
        "plt.xlabel(\"Day\")\n",
        "plt.ylabel(\"Temp\")\n",
        "plt.legend()"
      ]
    },
    {
      "cell_type": "markdown",
      "metadata": {
        "id": "Yg8_KnKbJuIs"
      },
      "source": [
        "#### Add axis labels and a legend to the plot above\n",
        "Use the following functions:\n",
        " - plt.xlabel\n",
        " - plt.ylabel\n",
        " - plt.title\n",
        " - plt.legend"
      ]
    },
    {
      "cell_type": "markdown",
      "metadata": {
        "id": "wbwpbDpwJuIt"
      },
      "source": [
        "#### Plot the precipitation as a function of max temperature\n",
        "You probably don't want a line connecting the dots.\n",
        "Are there any patterns you can spot?"
      ]
    },
    {
      "cell_type": "code",
      "execution_count": null,
      "metadata": {
        "id": "ApAQLGhbJuIt"
      },
      "outputs": [],
      "source": []
    },
    {
      "cell_type": "markdown",
      "metadata": {
        "id": "8cg83GncJuIt"
      },
      "source": [
        "#### Plot the precipitation as a function of (t_max - t_min)"
      ]
    },
    {
      "cell_type": "code",
      "execution_count": null,
      "metadata": {
        "id": "KF3znRCAJuIt"
      },
      "outputs": [],
      "source": []
    },
    {
      "cell_type": "markdown",
      "metadata": {
        "id": "CQRDmeupJuIt"
      },
      "source": [
        "#### Read about plt.hist() function and plot a histogram of the maximum temperatures"
      ]
    },
    {
      "cell_type": "code",
      "execution_count": null,
      "metadata": {
        "id": "Gg6uSf-IJuIt"
      },
      "outputs": [],
      "source": [
        "plt.hist?"
      ]
    },
    {
      "cell_type": "code",
      "source": [
        "plt.hist(max_temp, bins =10, edgecolor=\"black\")\n",
        "plt.xlabel(\"total temp\")\n",
        "plt.ylabel(\"frequency\")"
      ],
      "metadata": {
        "id": "ehBf98Dpm8wW"
      },
      "execution_count": null,
      "outputs": []
    },
    {
      "cell_type": "code",
      "source": [
        "plt.hist(min_temp, edgecolor=\"black\")"
      ],
      "metadata": {
        "id": "-MBx-nbOoJPl"
      },
      "execution_count": null,
      "outputs": []
    },
    {
      "cell_type": "markdown",
      "metadata": {
        "id": "c9WAuZmLJuIt"
      },
      "source": [
        "#### Plot a histogram of the differences between the min and max temperature"
      ]
    },
    {
      "cell_type": "code",
      "execution_count": 69,
      "metadata": {
        "id": "6pvRhEW4JuIt",
        "colab": {
          "base_uri": "https://localhost:8080/",
          "height": 482
        },
        "outputId": "db5324cf-d31c-49bc-86f9-6a8b62dc32e1"
      },
      "outputs": [
        {
          "output_type": "execute_result",
          "data": {
            "text/plain": [
              "(array([34., 85., 86., 89., 45.,  5.,  3.,  1.,  0.,  1.]),\n",
              " array([ 1. ,  3.9,  6.8,  9.7, 12.6, 15.5, 18.4, 21.3, 24.2, 27.1, 30. ]),\n",
              " <BarContainer object of 10 artists>)"
            ]
          },
          "metadata": {},
          "execution_count": 69
        },
        {
          "output_type": "display_data",
          "data": {
            "text/plain": [
              "<Figure size 640x480 with 1 Axes>"
            ],
            "image/png": "[encoded data removed]"
          },
          "metadata": {}
        }
      ],
      "source": [
        "plt.hist(temp_diff)"
      ]
    },
    {
      "cell_type": "markdown",
      "metadata": {
        "id": "VSONgnaOJuIt"
      },
      "source": [
        "#### For each day calculate the average of the 3 temperatures in the data (min max and avg)\n"
      ]
    },
    {
      "cell_type": "code",
      "execution_count": 72,
      "metadata": {
        "id": "fBzo1hAMJuIt",
        "colab": {
          "base_uri": "https://localhost:8080/"
        },
        "outputId": "b8fdeb86-0d26-46d9-8b65-c51bba1d1d61"
      },
      "outputs": [
        {
          "output_type": "execute_result",
          "data": {
            "text/plain": [
              "array([ -1.   ,  -1.   ,   0.   ,   0.   ,  -8.5  ,  -2.267,  -1.   ,\n",
              "         1.5  ,   4.5  ,   6.   ,  -4.767,  -4.5  ,  -8.   ,  -4.267,\n",
              "         0.5  ,   1.767,  -1.5  ,  -9.5  ,  -9.   ,  -3.767,  -4.5  ,\n",
              "        -6.   ,  -8.5  ,  -5.   ,   1.767,   4.   ,  -0.5  ,   0.5  ,\n",
              "        -4.5  ,  -1.5  ,   3.   ,   5.5  ,   3.267,   6.267,   2.767,\n",
              "        -1.267,   1.267,   1.   ,   1.5  ,  -2.   ,  -3.   ,  -5.5  ,\n",
              "        -8.   , -22.5  , -14.5  ,  -7.   ,  -2.5  ,  -9.5  ,  -1.767,\n",
              "         7.5  ,   4.5  ,  -2.267,  -3.   ,   0.267,   0.   ,   5.767,\n",
              "        -7.767,  -8.267,  -4.267,  -1.5  ,   2.267,   5.267,   5.5  ,\n",
              "         8.   ,   9.5  ,   4.5  ,   4.5  ,   6.267,   8.   ,   7.5  ,\n",
              "         4.267,   4.267,  -3.267,  -2.267,  -0.5  ,  -0.767,   3.5  ,\n",
              "         0.   ,  -1.   ,  -1.267,   4.   ,   6.5  ,   3.   ,   2.267,\n",
              "         9.   ,   9.267,   2.   ,  -4.   ,  -3.   ,  -4.   ,   2.267,\n",
              "         4.267,   0.   ,  -2.267,  -2.   ,   3.5  ,   4.   ,   0.767,\n",
              "         4.767,   7.767,   8.   ,  10.267,  12.5  ,  11.   ,   7.   ,\n",
              "         8.5  ,  12.767,  10.5  ,   4.267,   7.   ,   8.5  ,   8.767,\n",
              "         6.767,   8.767,  13.5  ,  11.767,  12.5  ,   8.767,   7.5  ,\n",
              "        10.267,  11.767,  13.5  ,  16.5  ,  11.   ,   5.5  ,   9.5  ,\n",
              "        15.767,  17.767,  17.5  ,  17.5  ,  18.267,  18.5  ,  20.767,\n",
              "        20.5  ,  22.   ,  22.5  ,  19.5  ,  14.767,  19.267,  18.767,\n",
              "        18.267,  18.267,  19.   ,  16.767,  12.767,  13.5  ,  14.   ,\n",
              "        20.767,  17.267,  15.5  ,  13.767,  16.267,  21.   ,  21.267,\n",
              "        20.   ,  21.5  ,  23.767,  19.   ,  19.5  ,  16.5  ,  18.   ,\n",
              "        19.5  ,  22.   ,  25.267,  21.   ,  17.5  ,  19.   ,  17.767,\n",
              "        19.5  ,  22.5  ,  22.5  ,  25.   ,  23.767,  23.   ,  21.767,\n",
              "        20.5  ,  22.   ,  24.267,  23.5  ,  21.5  ,  18.   ,  18.5  ,\n",
              "        25.767,  20.   ,  18.   ,  21.5  ,  28.5  ,  26.767,  23.   ,\n",
              "        26.   ,  22.767,  22.5  ,  24.   ,  22.5  ,  21.5  ,  22.5  ,\n",
              "        23.   ,  21.767,  21.767,  23.5  ,  26.767,  24.267,  22.267,\n",
              "        22.767,  21.767,  26.   ,  25.5  ,  28.267,  24.267,  24.267,\n",
              "        20.5  ,  24.   ,  19.5  ,  23.767,  21.5  ,  24.767,  24.5  ,\n",
              "        18.   ,  18.5  ,  21.   ,  25.   ,  23.267,  20.267,  26.   ,\n",
              "        21.5  ,  21.   ,  23.767,  18.5  ,  19.   ,  17.5  ,  17.   ,\n",
              "        19.5  ,  22.   ,  25.   ,  26.   ,  23.267,  22.5  ,  19.767,\n",
              "        16.267,  19.267,  19.   ,  14.267,  15.767,  19.   ,  20.5  ,\n",
              "        19.267,  21.267,  18.267,  19.767,  15.267,  13.767,  11.5  ,\n",
              "        14.267,  14.267,  17.   ,  15.5  ,  16.767,  16.267,  17.767,\n",
              "        16.5  ,  16.267,  16.   ,  17.267,  17.   ,  17.   ,  10.   ,\n",
              "         6.767,  10.   ,  12.5  ,  15.5  ,   9.5  ,  12.   ,  17.267,\n",
              "        17.   ,  18.267,  14.5  ,  13.   ,   9.5  ,   6.5  ,   8.767,\n",
              "         7.5  ,   5.5  ,   1.767,   3.267,   7.   ,  12.267,   7.5  ,\n",
              "         4.   ,   8.   ,  15.   ,  11.767,   7.267,  10.267,   7.   ,\n",
              "         7.767,   8.267,   7.5  ,   9.   ,   5.767,   2.767,   6.5  ,\n",
              "         8.5  ,   5.5  ,   7.   ,   6.   ,   9.5  ,   9.5  ,   0.   ,\n",
              "        -0.267,   0.767,  -2.267,   1.267,   4.5  ,   6.   ,   5.   ,\n",
              "         5.267,   9.267,   7.   ,   6.   ,   4.   ,   2.5  ,  -0.5  ,\n",
              "         3.   ,   1.767,   3.   ,   0.5  ,  -4.   ,  -4.   ,  -2.5  ,\n",
              "         1.   ,  -0.5  ,  -5.767,  -9.767,  -8.267,  -3.267,  -3.767,\n",
              "        -7.267,  -3.5  ,  -0.267,   1.767,   1.267,   3.   ,   1.   ,\n",
              "         1.5  ,   1.   ,  -0.5  ,   1.   ,  -0.5  ,   0.767])"
            ]
          },
          "metadata": {},
          "execution_count": 72
        }
      ],
      "source": [
        "avg = (max_temp + min_temp + mean_temp) / 3\n",
        "np.round(avg,3)"
      ]
    },
    {
      "cell_type": "markdown",
      "metadata": {
        "id": "iNHkPOMUJuIt"
      },
      "source": [
        "#### Calculate the total amount of precipitation for the whole year\n",
        "Does the number seem reasonable? The annual average precipitation in Toronto is 831 mm according to https://en.wikipedia.org/wiki/Geography_of_Toronto"
      ]
    },
    {
      "cell_type": "code",
      "execution_count": 73,
      "metadata": {
        "id": "-ruPQT7HJuIt",
        "colab": {
          "base_uri": "https://localhost:8080/"
        },
        "outputId": "c58dae62-4c80-477d-bce8-9a9c5907c4b9"
      },
      "outputs": [
        {
          "output_type": "execute_result",
          "data": {
            "text/plain": [
              "array([ 0. ,  0. ,  0. ,  0. ,  0. ,  0. ,  0. ,  0. , 29.8, 12.8,  3.5,\n",
              "        5. ,  2. ,  0.5,  9.4,  0. ,  0. ,  0. ,  0. ,  0. ,  0. ,  0. ,\n",
              "        0. ,  0. ,  1. ,  0.7,  1. ,  1. ,  0. ,  0. ,  5. ,  0. ,  9.6,\n",
              "        0. ,  0. ,  0.5,  0. ,  0. ,  0. ,  1. ,  0. ,  0. ,  0. ,  0. ,\n",
              "        0. ,  7. ,  5. ,  0. ,  0. ,  0. ,  0. ,  0. ,  0. , 22. ,  0. ,\n",
              "        0. ,  0. ,  0. ,  0. ,  0. ,  0. ,  0. ,  0. ,  0.6,  8.4,  0. ,\n",
              "        9.8,  3.2,  4.2,  3.4,  3.1,  0. ,  0. ,  0. ,  0. ,  1.6,  0.6,\n",
              "        3.6,  0. ,  0. ,  9. ,  2.2,  0. ,  9.6, 24. ,  0.6,  0. ,  9. ,\n",
              "        0. ,  0. ,  9.4,  0. ,  0. ,  0. ,  8.8,  2.2,  0. ,  0. ,  0. ,\n",
              "        0. ,  0. ,  0. ,  0. ,  0. ,  0. ,  2.4,  0. ,  0. ,  5.6,  3.2,\n",
              "        2. ,  0. ,  0. ,  0. ,  1. ,  0. ,  0.6,  1.6,  0. ,  0. ,  0. ,\n",
              "        0.6,  2.6,  2. ,  0. ,  0. ,  0. ,  0. ,  0.6,  0. ,  0. ,  0.6,\n",
              "        0. ,  0. ,  0. ,  0. ,  0. ,  0. ,  0. ,  0. , 10. ,  3. ,  4.6,\n",
              "        0. ,  0. ,  0. ,  8. ,  0. ,  0. ,  0. ,  0. ,  0. ,  0. ,  0. ,\n",
              "        0. ,  0. ,  0.6,  1.2,  0. ,  0. ,  0. ,  0. ,  3.8,  0. ,  0. ,\n",
              "        3. ,  0. ,  0. ,  0. ,  0. ,  0. ,  0. , 35. ,  3.2,  0. ,  0. ,\n",
              "        0. ,  0.4,  0. ,  0. ,  0. ,  0. ,  0. ,  0. ,  0. ,  0. ,  0. ,\n",
              "        0. , 18. ,  0. ,  0. , 11.8,  1. ,  0. ,  0. ,  1.6,  0. ,  0. ,\n",
              "        0. ,  0. ,  6.6,  0. ,  0. ,  0. ,  0. ,  0. ,  0. ,  1.8, 26.8,\n",
              "        0. , 20.4,  9. ,  0. ,  0. ,  0. , 14. ,  0. ,  0. ,  0. ,  3.2,\n",
              "        4. ,  0. ,  0.6,  0. ,  0. ,  0. ,  0. ,  0. ,  0. ,  0. ,  0. ,\n",
              "        0. ,  0. , 29. ,  0.4,  0. ,  7.6,  0. ,  0. ,  0. ,  0.4,  0. ,\n",
              "        3. ,  2.4,  0.5,  0. ,  0. ,  0. ,  0.4,  1. ,  0. ,  0. ,  9.4,\n",
              "        0. ,  0. ,  3.4,  0. ,  3.6,  3.4,  0. ,  0. ,  0. ,  0. ,  2. ,\n",
              "        0. ,  0. ,  0. ,  0. ,  0. ,  1. ,  0. ,  0.6,  4.6,  0.6,  4.8,\n",
              "        3. ,  6.2,  6. ,  0. ,  0. ,  0.8,  0. ,  2. ,  7.6,  0. ,  3.2,\n",
              "        0. ,  0. ,  0. , 16.6,  0.4,  0. ,  0. ,  0. ,  0. ,  1.4,  0. ,\n",
              "        0. ,  0. ,  0. ,  0. ,  0. ,  0. ,  0. ,  0. ,  0. ,  1. ,  0. ,\n",
              "        0. ,  0. ,  2.8,  1.4,  2.6,  1.2,  0. ,  4.4,  0.2, 13. ,  0. ,\n",
              "        0.2,  0. ,  8.2,  0. ,  6.8,  0.6,  1. ,  0. ,  1. ,  9. ,  0. ,\n",
              "        0. ,  0. ,  7. ,  9. ,  1. ,  0. ,  0. ,  0. ,  1. ,  0. ,  0. ,\n",
              "        0. ,  1.4, 17.2,  0. ,  2. ,  0. ,  1. ,  0. ])"
            ]
          },
          "metadata": {},
          "execution_count": 73
        }
      ],
      "source": [
        "total_precip\n"
      ]
    },
    {
      "cell_type": "code",
      "source": [
        "total_precip.shape"
      ],
      "metadata": {
        "colab": {
          "base_uri": "https://localhost:8080/"
        },
        "id": "wg38SxaWpFtA",
        "outputId": "e01827e0-be2f-4ece-dcb7-24da8aa406a2"
      },
      "execution_count": 74,
      "outputs": [
        {
          "output_type": "execute_result",
          "data": {
            "text/plain": [
              "(349,)"
            ]
          },
          "metadata": {},
          "execution_count": 74
        }
      ]
    },
    {
      "cell_type": "code",
      "source": [
        "np.sum(total_precip)"
      ],
      "metadata": {
        "colab": {
          "base_uri": "https://localhost:8080/"
        },
        "id": "WsfMZB2ipIhb",
        "outputId": "8b5223e3-9ed3-4827-9090-0dc8fb600813"
      },
      "execution_count": 75,
      "outputs": [
        {
          "output_type": "execute_result",
          "data": {
            "text/plain": [
              "np.float64(662.8000000000001)"
            ]
          },
          "metadata": {},
          "execution_count": 75
        }
      ]
    },
    {
      "cell_type": "markdown",
      "metadata": {
        "id": "aLf1k6MvJuIt"
      },
      "source": [
        "#### Calculate the total precipitation on all odd numbered days (day 1, 3, 5 and so on)"
      ]
    },
    {
      "cell_type": "code",
      "execution_count": 76,
      "metadata": {
        "id": "1YPVnz1TJuIt",
        "colab": {
          "base_uri": "https://localhost:8080/"
        },
        "outputId": "838db507-569b-4b59-d2da-e551761040bc"
      },
      "outputs": [
        {
          "output_type": "execute_result",
          "data": {
            "text/plain": [
              "array([False,  True, False,  True, False,  True, False,  True, False,\n",
              "        True, False,  True, False,  True, False,  True, False,  True,\n",
              "       False,  True, False,  True, False,  True, False,  True, False,\n",
              "        True, False,  True, False,  True, False,  True, False,  True,\n",
              "       False,  True, False,  True, False,  True, False,  True, False,\n",
              "        True, False, False,  True, False,  True, False,  True, False,\n",
              "        True, False,  True, False,  True, False,  True, False,  True,\n",
              "       False,  True, False, False,  True, False,  True, False,  True,\n",
              "       False,  True, False,  True, False,  True, False,  True, False,\n",
              "        True, False,  True, False,  True, False,  True, False,  True,\n",
              "       False,  True, False,  True, False,  True, False,  True, False,\n",
              "        True, False,  True, False,  True, False,  True, False,  True,\n",
              "       False, False,  True, False,  True, False,  True, False,  True,\n",
              "       False,  True, False,  True, False,  True, False,  True,  True,\n",
              "        True, False,  True, False,  True, False,  True, False,  True,\n",
              "       False,  True, False,  True, False,  True, False,  True, False,\n",
              "        True, False,  True, False,  True, False,  True, False,  True,\n",
              "       False,  True, False,  True, False,  True, False,  True, False,\n",
              "        True, False,  True, False,  True, False,  True, False,  True,\n",
              "       False,  True, False,  True, False,  True, False,  True, False,\n",
              "        True, False,  True, False,  True, False,  True, False,  True,\n",
              "       False,  True, False,  True, False,  True, False,  True, False,\n",
              "        True, False,  True, False,  True, False,  True, False,  True,\n",
              "       False,  True, False,  True, False,  True, False,  True, False,\n",
              "        True, False,  True, False,  True, False,  True, False,  True,\n",
              "       False,  True, False,  True, False,  True, False,  True, False,\n",
              "        True, False,  True, False,  True, False,  True, False,  True,\n",
              "       False,  True, False,  True, False,  True, False,  True, False,\n",
              "        True, False,  True, False,  True, False,  True, False,  True,\n",
              "       False,  True, False,  True, False,  True, False,  True, False,\n",
              "        True, False,  True, False,  True, False,  True, False,  True,\n",
              "       False,  True, False,  True, False,  True, False,  True, False,\n",
              "        True, False,  True, False,  True, False,  True, False,  True,\n",
              "       False,  True, False,  True, False,  True, False,  True, False,\n",
              "        True, False,  True, False,  True, False,  True, False,  True,\n",
              "       False,  True, False,  True, False,  True, False,  True, False,\n",
              "        True, False,  True, False,  True, False,  True, False,  True,\n",
              "       False,  True, False,  True, False,  True, False,  True, False,\n",
              "        True, False,  True, False,  True, False,  True])"
            ]
          },
          "metadata": {},
          "execution_count": 76
        }
      ],
      "source": [
        "mask = day % 2 != 0\n",
        "mask"
      ]
    },
    {
      "cell_type": "code",
      "source": [
        "selected_precip = total_precip[mask]"
      ],
      "metadata": {
        "id": "ALlkM2TBpWZp"
      },
      "execution_count": 77,
      "outputs": []
    },
    {
      "cell_type": "code",
      "source": [
        "selected_precip.sum()"
      ],
      "metadata": {
        "colab": {
          "base_uri": "https://localhost:8080/"
        },
        "id": "PHshWv9bqhdc",
        "outputId": "125ec620-373a-4dc0-a5af-e7a4c4725168"
      },
      "execution_count": 78,
      "outputs": [
        {
          "output_type": "execute_result",
          "data": {
            "text/plain": [
              "np.float64(291.40000000000003)"
            ]
          },
          "metadata": {},
          "execution_count": 78
        }
      ]
    },
    {
      "cell_type": "code",
      "source": [],
      "metadata": {
        "id": "8BGOV6h9qq51"
      },
      "execution_count": null,
      "outputs": []
    }
  ],
  "metadata": {
    "kernelspec": {
      "display_name": "Python 3 (ipykernel)",
      "language": "python",
      "name": "python3"
    },
    "language_info": {
      "codemirror_mode": {
        "name": "ipython",
        "version": 3
      },
      "file_extension": ".py",
      "mimetype": "text/x-python",
      "name": "python",
      "nbconvert_exporter": "python",
      "pygments_lexer": "ipython3",
      "version": "3.11.4"
    },
    "colab": {
      "provenance": []
    }
  },
  "nbformat": 4,
  "nbformat_minor": 0
}